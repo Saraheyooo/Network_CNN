{
  "nbformat": 4,
  "nbformat_minor": 0,
  "metadata": {
    "colab": {
      "name": "Network.ipynb",
      "provenance": [],
      "collapsed_sections": []
    },
    "kernelspec": {
      "name": "python3",
      "display_name": "Python 3"
    },
    "language_info": {
      "name": "python"
    },
    "accelerator": "GPU"
  },
  "cells": [
    {
      "cell_type": "code",
      "execution_count": 1,
      "metadata": {
        "id": "vey2rQ5N1Udk"
      },
      "outputs": [],
      "source": [
        "from tensorflow import keras\n",
        "import numpy as np\n",
        "import matplotlib.pyplot as plt"
      ]
    },
    {
      "cell_type": "code",
      "source": [
        "(x_train, y_train), (x_test, y_test) = keras.datasets.mnist.load_data()\n",
        "x_train_new = np.reshape(x_train, (60000,784))\n",
        "x_test_new = np.reshape(x_test,(10000,784))"
      ],
      "metadata": {
        "colab": {
          "base_uri": "https://localhost:8080/"
        },
        "id": "nXTXZ_c6CXN1",
        "outputId": "58e67ebc-5110-411c-8120-477163fe460b"
      },
      "execution_count": 2,
      "outputs": [
        {
          "output_type": "stream",
          "name": "stdout",
          "text": [
            "Downloading data from https://storage.googleapis.com/tensorflow/tf-keras-datasets/mnist.npz\n",
            "11493376/11490434 [==============================] - 0s 0us/step\n",
            "11501568/11490434 [==============================] - 0s 0us/step\n"
          ]
        }
      ]
    },
    {
      "cell_type": "code",
      "source": [
        "x_train_new = x_train_new/255\n",
        "x_test_new = x_test_new/255\n",
        "y_train_new = keras.utils.to_categorical(y_train, 10)\n",
        "y_test_new = keras.utils.to_categorical(y_test, 10)"
      ],
      "metadata": {
        "id": "x6WnwJcmDK5z"
      },
      "execution_count": 3,
      "outputs": []
    },
    {
      "cell_type": "markdown",
      "source": [
        "# Multi-Layer Perceptron (MLP) "
      ],
      "metadata": {
        "id": "vj_NjZNOClvg"
      }
    },
    {
      "cell_type": "code",
      "source": [
        "# initialise this model\n",
        "model2 = keras.Sequential()\n",
        "# fully-connected layers\n",
        "model2.add(keras.layers.Dense(256, activation = 'relu', input_shape=(784,)))\n",
        "model2.add(keras.layers.Dense(10, activation='softmax'))\n",
        "# compile the model with suitable loss functions, optimisation procedures, and performance measures\n",
        "model2.compile(loss='categorical_crossentropy',optimizer=keras.optimizers.RMSprop(), metrics='accuracy')"
      ],
      "metadata": {
        "id": "AiERhpU4CYsz"
      },
      "execution_count": 4,
      "outputs": []
    },
    {
      "cell_type": "code",
      "source": [
        "history2 = model2.fit(x_train_new, y_train_new, batch_size=128,epochs=12, verbose=1, validation_split=0.2)"
      ],
      "metadata": {
        "colab": {
          "base_uri": "https://localhost:8080/"
        },
        "id": "qyTw3FJECimw",
        "outputId": "14415fb3-a0cd-4774-d67a-427d05e09700"
      },
      "execution_count": 5,
      "outputs": [
        {
          "output_type": "stream",
          "name": "stdout",
          "text": [
            "Epoch 1/12\n",
            "375/375 [==============================] - 4s 4ms/step - loss: 0.3200 - accuracy: 0.9104 - val_loss: 0.1738 - val_accuracy: 0.9500\n",
            "Epoch 2/12\n",
            "375/375 [==============================] - 1s 4ms/step - loss: 0.1441 - accuracy: 0.9577 - val_loss: 0.1288 - val_accuracy: 0.9636\n",
            "Epoch 3/12\n",
            "375/375 [==============================] - 1s 4ms/step - loss: 0.0984 - accuracy: 0.9709 - val_loss: 0.1011 - val_accuracy: 0.9710\n",
            "Epoch 4/12\n",
            "375/375 [==============================] - 2s 4ms/step - loss: 0.0734 - accuracy: 0.9784 - val_loss: 0.0971 - val_accuracy: 0.9726\n",
            "Epoch 5/12\n",
            "375/375 [==============================] - 1s 4ms/step - loss: 0.0579 - accuracy: 0.9833 - val_loss: 0.0895 - val_accuracy: 0.9733\n",
            "Epoch 6/12\n",
            "375/375 [==============================] - 1s 4ms/step - loss: 0.0459 - accuracy: 0.9859 - val_loss: 0.0872 - val_accuracy: 0.9747\n",
            "Epoch 7/12\n",
            "375/375 [==============================] - 1s 4ms/step - loss: 0.0378 - accuracy: 0.9893 - val_loss: 0.0843 - val_accuracy: 0.9753\n",
            "Epoch 8/12\n",
            "375/375 [==============================] - 1s 4ms/step - loss: 0.0307 - accuracy: 0.9913 - val_loss: 0.0837 - val_accuracy: 0.9769\n",
            "Epoch 9/12\n",
            "375/375 [==============================] - 1s 4ms/step - loss: 0.0242 - accuracy: 0.9935 - val_loss: 0.0840 - val_accuracy: 0.9772\n",
            "Epoch 10/12\n",
            "375/375 [==============================] - 1s 4ms/step - loss: 0.0196 - accuracy: 0.9948 - val_loss: 0.0846 - val_accuracy: 0.9771\n",
            "Epoch 11/12\n",
            "375/375 [==============================] - 1s 4ms/step - loss: 0.0161 - accuracy: 0.9955 - val_loss: 0.0889 - val_accuracy: 0.9778\n",
            "Epoch 12/12\n",
            "375/375 [==============================] - 1s 4ms/step - loss: 0.0131 - accuracy: 0.9966 - val_loss: 0.0862 - val_accuracy: 0.9783\n"
          ]
        }
      ]
    },
    {
      "cell_type": "code",
      "source": [
        "history2.history.keys()\n",
        "# summarize history for accuracy\n",
        "plt.plot(history2.history['accuracy'])\n",
        "plt.plot(history2.history['val_accuracy'])\n",
        "plt.title('model accuracy')\n",
        "plt.ylabel('accuracy')\n",
        "plt.xlabel('epoch')\n",
        "plt.legend(['train', 'test'], loc='upper left')\n",
        "plt.show()\n",
        "# summarize history for loss\n",
        "plt.plot(history2.history['loss'])\n",
        "plt.plot(history2.history['val_loss'])\n",
        "plt.title('model loss')\n",
        "plt.ylabel('loss')\n",
        "plt.xlabel('epoch')\n",
        "plt.legend(['train', 'test'], loc='upper left')\n",
        "plt.show()"
      ],
      "metadata": {
        "colab": {
          "base_uri": "https://localhost:8080/",
          "height": 573
        },
        "id": "acgovhCgCrmG",
        "outputId": "4f0fd1e9-a0df-46dd-8098-0696b1009d8e"
      },
      "execution_count": 6,
      "outputs": [
        {
          "output_type": "display_data",
          "data": {
            "image/png": "[encoded data removed]",
            "text/plain": [
              "<Figure size 432x288 with 1 Axes>"
            ]
          },
          "metadata": {
            "needs_background": "light"
          }
        },
        {
          "output_type": "display_data",
          "data": {
            "image/png": "[encoded data removed]",
            "text/plain": [
              "<Figure size 432x288 with 1 Axes>"
            ]
          },
          "metadata": {
            "needs_background": "light"
          }
        }
      ]
    },
    {
      "cell_type": "markdown",
      "source": [
        "# Deep convolutional networks"
      ],
      "metadata": {
        "id": "6B4AaDpuCjg_"
      }
    },
    {
      "cell_type": "code",
      "source": [
        "(x_train, y_train), (x_test, y_test) = keras.datasets.cifar10.load_data()"
      ],
      "metadata": {
        "colab": {
          "base_uri": "https://localhost:8080/"
        },
        "id": "d1BknDa71grQ",
        "outputId": "4f02b1fb-1d36-49a0-ea89-046a75d5017a"
      },
      "execution_count": null,
      "outputs": [
        {
          "output_type": "stream",
          "name": "stdout",
          "text": [
            "Downloading data from https://www.cs.toronto.edu/~kriz/cifar-10-python.tar.gz\n",
            "170500096/170498071 [==============================] - 4s 0us/step\n",
            "170508288/170498071 [==============================] - 4s 0us/step\n"
          ]
        }
      ]
    },
    {
      "cell_type": "code",
      "source": [
        "x_test = x_test/255\n",
        "x_train = x_train/255"
      ],
      "metadata": {
        "id": "NPpmKpHj191u"
      },
      "execution_count": null,
      "outputs": []
    },
    {
      "cell_type": "code",
      "source": [
        "y_train = keras.utils.to_categorical(y_train, 10)\n",
        "y_test = keras.utils.to_categorical(y_test, 10)"
      ],
      "metadata": {
        "id": "h_4fUPwZ2FrL"
      },
      "execution_count": null,
      "outputs": []
    },
    {
      "cell_type": "code",
      "source": [
        "model = keras.Sequential() \n",
        "model.add(keras.layers.Conv2D(filters=32, kernel_size=(3, 3), activation=\"relu\", input_shape=(32, 32, 3), padding= \"same\")) \n",
        "model.add(keras.layers.Conv2D(filters=32, kernel_size=(3, 3), activation=\"relu\")) \n",
        "model.add(keras.layers.MaxPool2D(pool_size=(2, 2))) \n",
        "model.add(keras.layers.Dropout(rate=0.25)) # dropout layers\n",
        "\n",
        "model.add(keras.layers.Conv2D(filters=32, kernel_size=(3, 3), activation=\"relu\", padding= \"same\")) \n",
        "model.add(keras.layers.Conv2D(filters=32, kernel_size=(3, 3), activation=\"relu\")) \n",
        "model.add(keras.layers.MaxPool2D(pool_size=(2, 2))) \n",
        "model.add(keras.layers.Dropout(rate=0.25)) # dropout layers\n",
        "\n",
        "model.add(keras.layers.Flatten()) \n",
        "model.add(keras.layers.Dense(512, activation=\"relu\")) \n",
        "model.add(keras.layers.Dropout(rate=0.5)) # dropout layers\n",
        "model.add(keras.layers.Dense(10, activation=\"softmax\")) \n",
        "model.compile(loss='categorical_crossentropy', optimizer = keras.optimizers.RMSprop(learning_rate=0.0001,decay=1e-6), metrics='accuracy')\n"
      ],
      "metadata": {
        "id": "CzpPvvNJ3anF"
      },
      "execution_count": null,
      "outputs": []
    },
    {
      "cell_type": "code",
      "source": [
        "history = model.fit(x_train, y_train, batch_size=32, epochs=20, verbose=1, validation_data=(x_test, y_test), shuffle = True)"
      ],
      "metadata": {
        "colab": {
          "base_uri": "https://localhost:8080/"
        },
        "id": "nPLjNsPD9igl",
        "outputId": "fc56a0ae-ffff-45cb-8d6a-a911760fa96b"
      },
      "execution_count": null,
      "outputs": [
        {
          "output_type": "stream",
          "name": "stdout",
          "text": [
            "Epoch 1/20\n",
            "1563/1563 [==============================] - 19s 6ms/step - loss: 1.9358 - accuracy: 0.2867 - val_loss: 1.6927 - val_accuracy: 0.4004\n",
            "Epoch 2/20\n",
            "1563/1563 [==============================] - 9s 6ms/step - loss: 1.6265 - accuracy: 0.4069 - val_loss: 1.4940 - val_accuracy: 0.4560\n",
            "Epoch 3/20\n",
            "1563/1563 [==============================] - 9s 5ms/step - loss: 1.4773 - accuracy: 0.4631 - val_loss: 1.3565 - val_accuracy: 0.5077\n",
            "Epoch 4/20\n",
            "1563/1563 [==============================] - 9s 6ms/step - loss: 1.3893 - accuracy: 0.5013 - val_loss: 1.3066 - val_accuracy: 0.5364\n",
            "Epoch 5/20\n",
            "1563/1563 [==============================] - 9s 5ms/step - loss: 1.3219 - accuracy: 0.5262 - val_loss: 1.2208 - val_accuracy: 0.5666\n",
            "Epoch 6/20\n",
            "1563/1563 [==============================] - 8s 5ms/step - loss: 1.2648 - accuracy: 0.5524 - val_loss: 1.1813 - val_accuracy: 0.5777\n",
            "Epoch 7/20\n",
            "1563/1563 [==============================] - 8s 5ms/step - loss: 1.2087 - accuracy: 0.5678 - val_loss: 1.1812 - val_accuracy: 0.5927\n",
            "Epoch 8/20\n",
            "1563/1563 [==============================] - 8s 5ms/step - loss: 1.1609 - accuracy: 0.5894 - val_loss: 1.0767 - val_accuracy: 0.6232\n",
            "Epoch 9/20\n",
            "1563/1563 [==============================] - 8s 5ms/step - loss: 1.1194 - accuracy: 0.6044 - val_loss: 1.0947 - val_accuracy: 0.6094\n",
            "Epoch 10/20\n",
            "1563/1563 [==============================] - 8s 5ms/step - loss: 1.0834 - accuracy: 0.6181 - val_loss: 1.0145 - val_accuracy: 0.6444\n",
            "Epoch 11/20\n",
            "1563/1563 [==============================] - 9s 6ms/step - loss: 1.0579 - accuracy: 0.6297 - val_loss: 0.9734 - val_accuracy: 0.6578\n",
            "Epoch 12/20\n",
            "1563/1563 [==============================] - 9s 6ms/step - loss: 1.0257 - accuracy: 0.6419 - val_loss: 0.9891 - val_accuracy: 0.6560\n",
            "Epoch 13/20\n",
            "1563/1563 [==============================] - 8s 5ms/step - loss: 1.0016 - accuracy: 0.6485 - val_loss: 0.9271 - val_accuracy: 0.6777\n",
            "Epoch 14/20\n",
            "1563/1563 [==============================] - 9s 6ms/step - loss: 0.9797 - accuracy: 0.6564 - val_loss: 0.9106 - val_accuracy: 0.6860\n",
            "Epoch 15/20\n",
            "1563/1563 [==============================] - 9s 6ms/step - loss: 0.9574 - accuracy: 0.6649 - val_loss: 0.8947 - val_accuracy: 0.6907\n",
            "Epoch 16/20\n",
            "1563/1563 [==============================] - 8s 5ms/step - loss: 0.9408 - accuracy: 0.6707 - val_loss: 0.8755 - val_accuracy: 0.6961\n",
            "Epoch 17/20\n",
            "1563/1563 [==============================] - 8s 5ms/step - loss: 0.9230 - accuracy: 0.6760 - val_loss: 0.8575 - val_accuracy: 0.7059\n",
            "Epoch 18/20\n",
            "1563/1563 [==============================] - 8s 5ms/step - loss: 0.9055 - accuracy: 0.6832 - val_loss: 0.8645 - val_accuracy: 0.7008\n",
            "Epoch 19/20\n",
            "1563/1563 [==============================] - 9s 6ms/step - loss: 0.8909 - accuracy: 0.6897 - val_loss: 0.8293 - val_accuracy: 0.7133\n",
            "Epoch 20/20\n",
            "1563/1563 [==============================] - 8s 5ms/step - loss: 0.8778 - accuracy: 0.6913 - val_loss: 0.8301 - val_accuracy: 0.7127\n"
          ]
        }
      ]
    },
    {
      "cell_type": "code",
      "source": [
        "history.history.keys()\n",
        "# summarize history for accuracy\n",
        "plt.plot(history.history['accuracy'])\n",
        "plt.plot(history.history['val_accuracy'])\n",
        "plt.title('model accuracy')\n",
        "plt.ylabel('accuracy')\n",
        "plt.xlabel('epoch')\n",
        "plt.legend(['train', 'test'], loc='upper left')\n",
        "plt.show()"
      ],
      "metadata": {
        "colab": {
          "base_uri": "https://localhost:8080/",
          "height": 295
        },
        "id": "gkob9f1HH-UD",
        "outputId": "49ef1605-52c0-4079-a8b0-390f646f40f0"
      },
      "execution_count": null,
      "outputs": [
        {
          "output_type": "display_data",
          "data": {
            "image/png": "[encoded data removed]",
            "text/plain": [
              "<Figure size 432x288 with 1 Axes>"
            ]
          },
          "metadata": {
            "needs_background": "light"
          }
        }
      ]
    },
    {
      "cell_type": "code",
      "source": [
        "# summarize history for loss\n",
        "plt.plot(history.history['loss'])\n",
        "plt.plot(history.history['val_loss'])\n",
        "plt.title('model loss')\n",
        "plt.ylabel('loss')\n",
        "plt.xlabel('epoch')\n",
        "plt.legend(['train', 'test'], loc='upper left')\n",
        "plt.show()"
      ],
      "metadata": {
        "colab": {
          "base_uri": "https://localhost:8080/",
          "height": 295
        },
        "id": "qVUsytc3H-Xg",
        "outputId": "8ab62169-845c-4e1f-b8da-98c7eb7c625f"
      },
      "execution_count": null,
      "outputs": [
        {
          "output_type": "display_data",
          "data": {
            "image/png": "[encoded data removed]",
            "text/plain": [
              "<Figure size 432x288 with 1 Axes>"
            ]
          },
          "metadata": {
            "needs_background": "light"
          }
        }
      ]
    },
    {
      "cell_type": "code",
      "source": [
        "# Save the entire model to a HDF5 file.\n",
        "# The '.h5' extension indicates that the model should be saved to HDF5.\n",
        "model.save('Q16_model.h5')"
      ],
      "metadata": {
        "id": "AeLHireYJlbH"
      },
      "execution_count": null,
      "outputs": []
    },
    {
      "cell_type": "code",
      "source": [
        "# Recreate the exact same model, including its weights and the optimizer\n",
        "new_model = tf.keras.models.load_model('my_model.h5')\n",
        "# Show the model architecture\n",
        "new_model.summary()"
      ],
      "metadata": {
        "id": "h_XVReqBJxwy"
      },
      "execution_count": null,
      "outputs": []
    }
  ]
}